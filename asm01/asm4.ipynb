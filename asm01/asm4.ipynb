{
 "cells": [
  {
   "cell_type": "code",
   "execution_count": 7,
   "metadata": {
    "pycharm": {
     "is_executing": false
    }
   },
   "outputs": [],
   "source": [
    "#imports\n",
    "import pickle\n",
    "from sklearn.manifold import TSNE\n",
    "import matplotlib.pyplot as plt\n",
    "import re\n",
    "from nltk.corpus import stopwords\n",
    "import os\n",
    "from matplotlib import pyplot as py\n",
    "import numpy as np\n",
    "path = \"/home/lucky/Downloads/asm4/\"\n",
    "from nltk.stem import PorterStemmer\n",
    "from nltk.tokenize import RegexpTokenizer\n",
    "from num2words import num2words\n",
    "from collections import Counter\n",
    "from collections import OrderedDict\n",
    "from natsort import natsorted\n",
    "from collections import Counter\n",
    "import operator\n",
    "import collections\n",
    "import numpy as np"
   ]
  },
  {
   "cell_type": "code",
   "execution_count": 8,
   "metadata": {
    "pycharm": {
     "is_executing": false,
     "name": "#%%\n"
    }
   },
   "outputs": [],
   "source": [
    "#listing all files\n",
    "dir = [d[0] for d in natsorted(os.walk(path))]\n",
    "files = []\n",
    "btemp = False\n",
    "for d in dir:\n",
    "    if btemp == True:\n",
    "        d = d+\"/\"\n",
    "    if btemp == False:\n",
    "        btemp = True\n",
    "        continue\n",
    "    for k in natsorted(os.listdir(d)): \n",
    "        files.append(d+k)"
   ]
  },
  {
   "cell_type": "code",
   "execution_count": 9,
   "metadata": {
    "pycharm": {
     "is_executing": false,
     "name": "#%%\n"
    }
   },
   "outputs": [],
   "source": [
    "#preprocessing\n",
    "def rem_stop(data):\n",
    "    stop_words = stopwords.words('english') \n",
    "    for d in data:\n",
    "        if d in stop_words:\n",
    "            data.remove(d)\n",
    "    return data\n",
    "\n",
    "def tokenise(data):\n",
    "    tokenizer = RegexpTokenizer(r'\\w+')\n",
    "    return tokenizer.tokenize(data)\n",
    "\n",
    "def stem(data):\n",
    "    ps = PorterStemmer()\n",
    "    for d in range(len(data)):\n",
    "        data[d] = ps.stem(data[d])\n",
    "    return data\n",
    "\n",
    "def numTostr(data):\n",
    "    for d in range(len(data)):\n",
    "        try:\n",
    "            data[d] = num2words(int(data[d]))\n",
    "        except:\n",
    "            pass\n",
    "    return data\n",
    "def to_lower(data):\n",
    "    for d in range(len(data)):\n",
    "        data[d] = data[d].lower()\n",
    "    return data\n",
    "def pprocess(data):\n",
    "    data = tokenise(data)\n",
    "    data = to_lower(data)\n",
    "    data = rem_stop(data)\n",
    "    data = numTostr(data)\n",
    "    data = stem(data)\n",
    "    return data"
   ]
  },
  {
   "cell_type": "code",
   "execution_count": 10,
   "metadata": {
    "pycharm": {
     "is_executing": false,
     "name": "#%%\n"
    }
   },
   "outputs": [],
   "source": [
    "#reading files in list\n",
    "fin_data = []\n",
    "with open('findata.pickle', 'rb') as handle:\n",
    "    fin_data = pickle.load(handle)\n",
    "# for i in files:\n",
    "#     op = open( i,'r',encoding=\"utf8\", errors='ignore')\n",
    "#     text = op.read().strip()\n",
    "#     idx = text.find('\\n\\n')\n",
    "#     text = text[idx+2:]\n",
    "#     fin_data.append(pprocess(text))"
   ]
  },
  {
   "cell_type": "code",
   "execution_count": 11,
   "outputs": [],
   "source": [
    "# with open('findata.pickle', 'wb') as handle:\n",
    "#     pickle.dump(fin_data, handle, protocol=pickle.HIGHEST_PROTOCOL)\n"
   ],
   "metadata": {
    "collapsed": false,
    "pycharm": {
     "name": "#%% \n",
     "is_executing": false
    }
   }
  },
  {
   "cell_type": "code",
   "execution_count": 12,
   "metadata": {
    "pycharm": {
     "is_executing": false,
     "name": "#%%\n"
    }
   },
   "outputs": [],
   "source": [
    "#calculatin doc frequency\n",
    "df = {}\n",
    "for i in range(len(fin_data)):\n",
    "    tok = fin_data[i]\n",
    "    for t in tok:\n",
    "        if t not in df:\n",
    "            df[t] = {i}\n",
    "        else:\n",
    "            df[t].add(i)\n",
    "for i in df:\n",
    "    df[i] = len(df[i])"
   ]
  },
  {
   "cell_type": "code",
   "execution_count": 13,
   "metadata": {
    "pycharm": {
     "is_executing": false,
     "name": "#%%\n"
    }
   },
   "outputs": [],
   "source": [
    "#tf-idf functions\n",
    "def caltf(countinDoc,docLength):\n",
    "        return countinDoc/docLength\n",
    "\n",
    "def calIdf(docfre,totaldoc):\n",
    "        return np.log( (totaldoc+1)/(docfre+1) )"
   ]
  },
  {
   "cell_type": "code",
   "execution_count": 14,
   "metadata": {
    "pycharm": {
     "is_executing": false,
     "name": "#%%\n"
    }
   },
   "outputs": [],
   "source": [
    "#storing tf-idf where key is doc,tok pair\n",
    "tf_idf_doc = {}\n",
    "d = 0\n",
    "for i in range(len(fin_data)):\n",
    "    doc_tok = fin_data[i]\n",
    "    c = Counter(doc_tok)\n",
    "    wc = len(doc_tok)\n",
    "    for t in np.unique(doc_tok):\n",
    "        termFre = caltf(c[t],wc)\n",
    "        InDocFre =  calIdf(df.get(t),len(fin_data))\n",
    "        tf_idf_doc[d,t] = termFre*InDocFre;\n",
    "    d = d+1"
   ]
  },
  {
   "cell_type": "code",
   "execution_count": 2,
   "metadata": {
    "pycharm": {
     "is_executing": false,
     "name": "#%%\n"
    }
   },
   "outputs": [
    {
     "traceback": [
      "\u001B[0;31m---------------------------------------------------------------------------\u001B[0m",
      "\u001B[0;31mNameError\u001B[0m                                 Traceback (most recent call last)",
      "\u001B[0;32m<ipython-input-2-6c587554016c>\u001B[0m in \u001B[0;36m<module>\u001B[0;34m\u001B[0m\n\u001B[1;32m      3\u001B[0m \u001B[0;34m\u001B[0m\u001B[0m\n\u001B[1;32m      4\u001B[0m \u001B[0;31m#converting tf-idf into matrix\u001B[0m\u001B[0;34m\u001B[0m\u001B[0;34m\u001B[0m\u001B[0;34m\u001B[0m\u001B[0m\n\u001B[0;32m----> 5\u001B[0;31m \u001B[0mvoc\u001B[0m \u001B[0;34m=\u001B[0m \u001B[0mlist\u001B[0m\u001B[0;34m(\u001B[0m\u001B[0mdf\u001B[0m\u001B[0;34m.\u001B[0m\u001B[0mkeys\u001B[0m\u001B[0;34m(\u001B[0m\u001B[0;34m)\u001B[0m\u001B[0;34m)\u001B[0m\u001B[0;34m\u001B[0m\u001B[0;34m\u001B[0m\u001B[0m\n\u001B[0m\u001B[1;32m      6\u001B[0m \u001B[0mmtf\u001B[0m \u001B[0;34m=\u001B[0m \u001B[0;32mNone\u001B[0m\u001B[0;34m\u001B[0m\u001B[0;34m\u001B[0m\u001B[0m\n\u001B[1;32m      7\u001B[0m \u001B[0;32mwith\u001B[0m \u001B[0mopen\u001B[0m\u001B[0;34m(\u001B[0m\u001B[0;34m'mtf.pickle'\u001B[0m\u001B[0;34m,\u001B[0m \u001B[0;34m'rb'\u001B[0m\u001B[0;34m)\u001B[0m \u001B[0;32mas\u001B[0m \u001B[0mhandle\u001B[0m\u001B[0;34m:\u001B[0m\u001B[0;34m\u001B[0m\u001B[0;34m\u001B[0m\u001B[0m\n",
      "\u001B[0;31mNameError\u001B[0m: name 'df' is not defined"
     ],
     "ename": "NameError",
     "evalue": "name 'df' is not defined",
     "output_type": "error"
    }
   ],
   "source": [
    "#i could have saved this into pickel but loading from pickle is also taking same time\n",
    "#thats why no need to save and upload 1.7 gb file \n",
    "#converting tf-idf into matrix\n",
    "voc = list(df.keys())\n",
    "def vectfidf():\n",
    "    col = len(df)\n",
    "    m = np.zeros((len(fin_data),col))\n",
    "    for i in tf_idf_doc:\n",
    "        try:\n",
    "            colind = voc.index(i[1])\n",
    "            rowind = i[0]\n",
    "            m[rowind][colind] = tf_idf_doc[i]\n",
    "        except:\n",
    "            pass\n",
    "    return m\n",
    "mtf = vectfidf()"
   ]
  },
  {
   "cell_type": "code",
   "execution_count": 17,
   "metadata": {
    "pycharm": {
     "name": "#%%\n",
     "is_executing": false
    }
   },
   "outputs": [],
   "source": [
    "#calculate cosine\n",
    "def calCos(vec1,vec2):\n",
    "    num = np.dot(vec1,vec2)\n",
    "    din = np.linalg.norm(vec1)*np.linalg.norm(vec2)\n",
    "    sim = num/din\n",
    "    return sim"
   ]
  },
  {
   "cell_type": "code",
   "execution_count": 18,
   "metadata": {
    "pycharm": {
     "is_executing": false,
     "name": "#%%\n"
    }
   },
   "outputs": [],
   "source": [
    "#generate query vector\n",
    "def gqV(q):\n",
    "    v = np.zeros(len(voc))\n",
    "    wc = Counter(q)\n",
    "    totlen = len(q)\n",
    "    for w in q:\n",
    "        tf = caltf(wc[w],totlen)\n",
    "        docfre = df[w]\n",
    "        idf = calIdf(docfre,len(fin_data))\n",
    "        idx = voc.index(w)\n",
    "        v[idx] = tf*idf\n",
    "    return v"
   ]
  },
  {
   "cell_type": "code",
   "execution_count": 19,
   "metadata": {
    "pycharm": {
     "is_executing": false,
     "name": "#%%\n"
    }
   },
   "outputs": [],
   "source": [
    "#giving cosine similarity for top k docs\n",
    "def cosSim(k,qv):\n",
    "    cos = {}\n",
    "    doc = 0\n",
    "    for val in mtf:\n",
    "        cos[doc] = calCos(val,qv)\n",
    "        doc = doc+1\n",
    "    res = sorted(cos.items(),key = lambda x:x[1],reverse=True)\n",
    "    docList = []\n",
    "    for i in res[:k]:\n",
    "        docList.append((files[i[0]],i[0]))\n",
    "    return docList"
   ]
  },
  {
   "cell_type": "code",
   "execution_count": 20,
   "metadata": {
    "pycharm": {
     "is_executing": false,
     "name": "#%%\n"
    }
   },
   "outputs": [],
   "source": [
    "beta=0.75\n",
    "gamma=0.25\n",
    "#folder mappings\n",
    "dir = {1:'comp.graphics',\n",
    "       2:'rec.sport.hockey',\n",
    "       3:'sci.med',\n",
    "       4:'sci.space',\n",
    "       5:'talk.politics.misc'}"
   ]
  },
  {
   "cell_type": "code",
   "execution_count": 21,
   "metadata": {
    "pycharm": {
     "is_executing": false,
     "name": "#%%\n"
    }
   },
   "outputs": [],
   "source": [
    "#calculating centroid\n",
    "def calcentr(dl):\n",
    "    sum = np.zeros(len(voc))\n",
    "    for d in dl:\n",
    "        sum = np.add(d,sum)\n",
    "    return np.divide(sum,len(dl))\n",
    "#getting dir name of the file\n",
    "def get_fold_name(name):\n",
    "    trimmed = name[name.find('asm4')+5:]\n",
    "    return trimmed[:trimmed.find('/')]"
   ]
  },
  {
   "cell_type": "code",
   "execution_count": 22,
   "metadata": {
    "pycharm": {
     "is_executing": false,
     "name": "#%%\n"
    }
   },
   "outputs": [],
   "source": [
    "#plot pr curve\n",
    "def plotpr(rl,pl):\n",
    "    py.plot(rl, pl, marker='.', label='Logistic')\n",
    "    py.xlabel('Recall')\n",
    "    py.ylabel('Precision')\n",
    "    py.show()\n",
    "#plot tsne   \n",
    "def plottsne(rdvl,nrdvl,qv):\n",
    "    model = TSNE(n_components=2)\n",
    "    transfrom = model.fit_transform(rdvl+nrdvl+[qv])\n",
    "    rel, nonr, querv = np.array(transfrom[:len(rdvl)]), \\\n",
    "                       np.array(transfrom[len(rdvl):-1]), \\\n",
    "                       np.array(transfrom[-1])\n",
    "    plt.scatter(rel[:,0],rel[:,1],color = 'blue')\n",
    "    plt.scatter(nonr[:,0],nonr[:,1], color = 'red')\n",
    "    plt.scatter(querv[0],querv[1], color = 'grey')\n",
    "    plt.show()"
   ]
  },
  {
   "cell_type": "code",
   "execution_count": 23,
   "metadata": {
    "pycharm": {
     "is_executing": false,
     "name": "#%%\n"
    }
   },
   "outputs": [],
   "source": [
    "oldrel=[]\n",
    "#printing docs\n",
    "def print_top_docs(list,crl):\n",
    "    print(\"--------------------------------------------------\")\n",
    "    for i in list:\n",
    "        if i in crl:\n",
    "            print(\"*\"+i[0])\n",
    "        else: print(i[0])"
   ]
  },
  {
   "cell_type": "code",
   "execution_count": 24,
   "outputs": [],
   "source": [
    "#seprating docs into relevant and non relevant\n",
    "def sepr_doc(fol,initList,p,qv):\n",
    "    rdvl = []\n",
    "    nrdvl = []\n",
    "    nrd = 0\n",
    "    pl = []\n",
    "    rl = []\n",
    "    crl = []\n",
    "    rcount = 0\n",
    "    apr = 0\n",
    "    for i in initList:\n",
    "        foldName = get_fold_name(i[0])\n",
    "        nrd += 1\n",
    "        if foldName == dir[int(fol)]:\n",
    "            rcount+=1\n",
    "            apr += rcount/nrd\n",
    "        pl.append(rcount/nrd)\n",
    "        rl.append(rcount/1000)\n",
    "    c = 0\n",
    "    for i in initList:\n",
    "        if i not in oldrel:\n",
    "            foldName = get_fold_name(i[0])\n",
    "            if foldName == dir[int(fol)] and c<p:\n",
    "                c+=1\n",
    "                rdvl.append(mtf[i[1]])\n",
    "                oldrel.append(i)\n",
    "                crl.append(i)\n",
    "            else:\n",
    "                nrdvl.append(mtf[i[1]])\n",
    "    print(\"Average precision is \"+str(apr/100))\n",
    "    plotpr(rl,pl)\n",
    "    plottsne(rdvl,nrdvl,qv)\n",
    "    return rdvl,nrdvl,crl"
   ],
   "metadata": {
    "collapsed": false,
    "pycharm": {
     "name": "#%%\n",
     "is_executing": false
    }
   }
  },
  {
   "cell_type": "code",
   "execution_count": 25,
   "metadata": {
    "pycharm": {
     "is_executing": false,
     "name": "#%%\n"
    }
   },
   "outputs": [
    {
     "name": "stderr",
     "text": [
      "/home/lucky/soft/anaconda3/envs/untitled4/lib/python3.7/site-packages/ipykernel_launcher.py:5: RuntimeWarning: invalid value encountered in double_scalars\n",
      "  \"\"\"\n"
     ],
     "output_type": "stream"
    },
    {
     "name": "stdout",
     "text": [
      "Average precision is 0.22217150998286048\n",
      "Average precision is 0.35343240610520615\n",
      "Average precision is 0.5124255367528757\n",
      "Average precision is 0.5475670550951321\n"
     ],
     "output_type": "stream"
    }
   ],
   "source": [
    "#main cell\n",
    "#top docs\n",
    "k = 100\n",
    "#p% = 10\n",
    "p = 10\n",
    "q = input(\"Enter the query\")\n",
    "fol = input(\" Input\\n 1 for comp.graphics\\n 2 for rec.sport.hockey\\n\"\n",
    "      \" 3 for sci.med\\n 4 for sci.space\\n 5 for talk.politics.misc \")\n",
    "qv = gqV(pprocess(q))\n",
    "i = 1\n",
    "crl = []\n",
    "while i<5:\n",
    "    initList = cosSim(k,qv)\n",
    "    print_top_docs(initList,crl)\n",
    "    re,nr,crl = sepr_doc(fol,initList,p,qv)\n",
    "    cr = calcentr(re)*beta\n",
    "    cnr = calcentr(nr)*gamma\n",
    "    qv = np.add(qv,np.subtract(cr,cnr))\n",
    "    i+=1"
   ]
  },
  {
   "cell_type": "code",
   "execution_count": 25,
   "metadata": {
    "pycharm": {
     "is_executing": false,
     "name": "#%%\n"
    }
   },
   "outputs": [],
   "source": []
  }
 ],
 "metadata": {
  "kernelspec": {
   "display_name": "Python 3",
   "language": "python",
   "name": "python3"
  },
  "language_info": {
   "codemirror_mode": {
    "name": "ipython",
    "version": 3
   },
   "file_extension": ".py",
   "mimetype": "text/x-python",
   "name": "python",
   "nbconvert_exporter": "python",
   "pygments_lexer": "ipython3",
   "version": "3.7.6"
  }
 },
 "nbformat": 4,
 "nbformat_minor": 1
}