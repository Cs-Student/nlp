{
 "cells": [
  {
   "cell_type": "code",
   "execution_count": 1,
   "metadata": {
    "collapsed": true
   },
   "outputs": [],
   "source": [
    "import nltk\n",
    "from nltk import RegexpTokenizer\n",
    "from sklearn.metrics import confusion_matrix\n",
    "filepath = 'Brown_train.txt'\n",
    "import numpy as np\n",
    "from sklearn.model_selection import train_test_split\n",
    "from nltk.util import ngrams\n",
    "from sklearn.model_selection import KFold\n",
    "import pandas as pd"
   ]
  },
  {
   "cell_type": "code",
   "execution_count": 2,
   "outputs": [],
   "source": [
    "def list_sen():\n",
    "    op = open( filepath,'r',encoding=\"utf8\", errors='ignore')\n",
    "    sen_list = []\n",
    "    for lin in op:\n",
    "        line_split = lin.split(\" \")\n",
    "        temp_list = [(\"#\",\"#\")]\n",
    "        for wrd in line_split:\n",
    "            ar = wrd.split(\"_\")\n",
    "            if len(ar)<2:\n",
    "                continue\n",
    "            temp_list.append((ar[0],ar[1]))\n",
    "        temp_list.append((\"&\",\"&\"))\n",
    "        sen_list.append(temp_list)\n",
    "    return sen_list"
   ],
   "metadata": {
    "collapsed": false,
    "pycharm": {
     "name": "#%%\n"
    }
   }
  },
  {
   "cell_type": "code",
   "execution_count": 3,
   "outputs": [],
   "source": [
    "def tag_dic(train_list):\n",
    "    tag_dict = {}\n",
    "    for sen in train_list:\n",
    "        for (word,tag) in sen:\n",
    "            word = word.lower()\n",
    "            if tag not in tag_dict:\n",
    "                tag_dict[tag] = {}\n",
    "            if word not in tag_dict[tag]:\n",
    "                tag_dict[tag][word] = 1\n",
    "            tag_dict[tag][word] = tag_dict[tag][word]+1\n",
    "    return tag_dict\n",
    "\n",
    "def em_prob(tag_dict):\n",
    "    emmision_prob = {}\n",
    "    for key in tag_dict:\n",
    "        if key not in emmision_prob:\n",
    "            emmision_prob[key] = {}\n",
    "        for word in tag_dict[key]:\n",
    "            emmision_prob[key][word] = tag_dict[key][word]/sum(tag_dict[key].values())\n",
    "    return emmision_prob\n",
    "\n"
   ],
   "metadata": {
    "collapsed": false,
    "pycharm": {
     "name": "#%%\n"
    }
   }
  },
  {
   "cell_type": "code",
   "execution_count": 4,
   "outputs": [],
   "source": [
    "def tri_prob(train_list):\n",
    "    trigram_count = {}\n",
    "    for sen in train_list:\n",
    "        trigrams = list(nltk.trigrams(sen))\n",
    "        for w1,w2,w3 in trigrams:\n",
    "            if (w1[1],w2[1]) not in trigram_count:\n",
    "                trigram_count[(w1[1],w2[1])] = {}\n",
    "            if w3[1] not in trigram_count[(w1[1],w2[1])]:\n",
    "               trigram_count[(w1[1],w2[1])][w3[1]] = 1\n",
    "            trigram_count[(w1[1],w2[1])][w3[1]] +=1\n",
    "    trigram_tag_prob = {}\n",
    "    for key in trigram_count:\n",
    "        if key not in trigram_tag_prob:\n",
    "            trigram_tag_prob[key] = {}\n",
    "        for tag_key in trigram_count[key]:\n",
    "            temp_sum = sum(trigram_count[key].values())\n",
    "            trigram_tag_prob[key][tag_key] = trigram_count[key][tag_key] / temp_sum\n",
    "    return trigram_tag_prob"
   ],
   "metadata": {
    "collapsed": false,
    "pycharm": {
     "name": "#%%\n"
    }
   }
  },
  {
   "cell_type": "code",
   "execution_count": null,
   "outputs": [],
   "source": [
    "def big_prob(train_list):\n",
    "    bigram_count = {}\n",
    "    for sen in train_list:\n",
    "        bigrams = list(nltk.bigrams(sen))\n",
    "        for w1,w2 in bigrams:\n",
    "            if w1[1] not in bigram_count:\n",
    "                bigram_count[w1[1]] = {}\n",
    "            if w2[1] not in bigram_count[w1[1]]:\n",
    "                bigram_count[w1[1]][w2[1]] = 1\n",
    "            bigram_count[w1[1]][w2[1]] +=1\n",
    "    bigram_tag_prob = {}\n",
    "    for key in bigram_count:\n",
    "        if key not in bigram_tag_prob:\n",
    "            bigram_tag_prob[key] = {}\n",
    "        for tag_key in bigram_count[key]:\n",
    "            temp_sum = sum(bigram_count[key].values())\n",
    "            bigram_tag_prob[key][tag_key] = bigram_count[key][tag_key] / temp_sum\n",
    "    return bigram_tag_prob"
   ],
   "metadata": {
    "collapsed": false,
    "pycharm": {
     "name": "#%%\n"
    }
   }
  },
  {
   "cell_type": "code",
   "execution_count": 5,
   "outputs": [],
   "source": [
    "def word_tags(train_list,test_list):\n",
    "    word_tags_dict = {}\n",
    "    for sen in train_list:\n",
    "        for (word,tag) in sen:\n",
    "            wrd = word.lower()\n",
    "            if wrd not in word_tags_dict:\n",
    "                word_tags_dict[wrd] = []\n",
    "            if tag not in word_tags_dict[wrd]:\n",
    "                word_tags_dict[wrd].append(tag)\n",
    "\n",
    "\n",
    "    for sen in test_list:\n",
    "        for (word,tag) in sen:\n",
    "            wrd = word.lower()\n",
    "            if wrd not in word_tags_dict:\n",
    "                word_tags_dict[wrd] = []\n",
    "            if tag not in word_tags_dict[wrd]:\n",
    "                word_tags_dict[wrd].append(tag)\n",
    "    return word_tags_dict"
   ],
   "metadata": {
    "collapsed": false,
    "pycharm": {
     "name": "#%%\n"
    }
   }
  },
  {
   "cell_type": "code",
   "execution_count": 6,
   "outputs": [],
   "source": [
    "def split_test_word_tag(test_list):\n",
    "    test_sent_words = []\n",
    "    test_sent_tags = []\n",
    "    for sen in test_list:\n",
    "        temp_wrd = []\n",
    "        temp_tag = []\n",
    "        for wrd,tag in sen:\n",
    "            temp_wrd.append(wrd.lower())\n",
    "            temp_tag.append(tag)\n",
    "        test_sent_words.append(temp_wrd)\n",
    "        test_sent_tags.append(temp_tag)\n",
    "    return test_sent_tags,test_sent_words"
   ],
   "metadata": {
    "collapsed": false,
    "pycharm": {
     "name": "#%%\n"
    }
   }
  },
  {
   "cell_type": "code",
   "execution_count": 7,
   "outputs": [],
   "source": [
    "def predictions_len_2(test_sent_words,word_tags_dict,bigram_tag_prob,emmision_prob):\n",
    "    predicted_tags = []\n",
    "    for i in range(len(test_sent_words)):\n",
    "        test_sen = test_sent_words[i]\n",
    "        val = {}\n",
    "        for j in range(len(test_sen)):\n",
    "            wrd = test_sen[j]\n",
    "            if j == 1:\n",
    "                val[j] = {}\n",
    "                tags = word_tags_dict[wrd]\n",
    "                for tag in tags:\n",
    "                    try:\n",
    "                        val[j][tag] = ['#',bigram_tag_prob['#'][tag]*emmision_prob[tag][wrd]]\n",
    "                    except:\n",
    "                        val[j][tag] = ['#',0.00001]\n",
    "            if j >1:\n",
    "                val[j] = {}\n",
    "                curr_state_tags = word_tags_dict[wrd]\n",
    "                prev_states_tags = list(val[j-1].keys())\n",
    "\n",
    "                for cur_tags in curr_state_tags:\n",
    "                    tmp = []\n",
    "                    for prev_tags in prev_states_tags:\n",
    "                        try:\n",
    "                            tmp.append(\n",
    "                                val[j-1][prev_tags][1]*bigram_tag_prob[prev_tags][cur_tags]*emmision_prob[cur_tags][wrd]\n",
    "                            )\n",
    "                        except:\n",
    "                            tmp.append(val[j-1][prev_tags][1]*0.0001)\n",
    "                    max_idx = tmp.index(max(tmp))\n",
    "                    max_prev_state_val = prev_states_tags[max_idx]\n",
    "                    val[j][cur_tags] = [max_prev_state_val,max(tmp)]\n",
    "        pred_tags = []\n",
    "        total_steps_num = val.keys()\n",
    "        last_step_num = max(total_steps_num)\n",
    "        for bs in range(len(total_steps_num)):\n",
    "            step_num = last_step_num - bs\n",
    "            if step_num == last_step_num:\n",
    "              pred_tags.append('&')\n",
    "              pred_tags.append(val[step_num]['&'][0])\n",
    "            if step_num<last_step_num and step_num>0:\n",
    "              pred_tags.append(val[step_num][pred_tags[len(pred_tags)-1]][0])\n",
    "        predicted_tags.append(list(reversed(pred_tags)))\n",
    "    return predicted_tags"
   ],
   "metadata": {
    "collapsed": false,
    "pycharm": {
     "name": "#%%\n"
    }
   }
  },
  {
   "cell_type": "code",
   "execution_count": null,
   "outputs": [],
   "source": [
    "def predictions_len_3(test_sent_words,word_tags_dict,bigram_tag_prob,trigram_tag_prob,emmision_prob):\n",
    "    predicted_tags = []\n",
    "    for i in range(len(test_sent_words)):\n",
    "        test_sen = test_sent_words[i]\n",
    "        val = {}\n",
    "        for j in range(len(test_sen)):\n",
    "            wrd = test_sen[j]\n",
    "            if j == 1 or j==2:\n",
    "                val[j] = {}\n",
    "                tags = word_tags_dict[wrd]\n",
    "                for tag in tags:\n",
    "                    try:\n",
    "                        val[j][tag] = ['#',bigram_tag_prob['#'][tag]*emmision_prob[tag][wrd]]\n",
    "                    except:\n",
    "                        val[j][tag] = ['#',0.00001]\n",
    "            if j == 2:\n",
    "                val[j] = {}\n",
    "                curr_state_tags = word_tags_dict[wrd]\n",
    "                prev_states_tags = list(val[j-1].keys())\n",
    "                for cur_tags in curr_state_tags:\n",
    "                    tmp = []\n",
    "                    for prev_tags in prev_states_tags:\n",
    "                        try:\n",
    "                            tmp.append(\n",
    "                                val[j-1][prev_tags][1]*bigram_tag_prob[prev_tags][cur_tags]*emmision_prob[cur_tags][wrd]\n",
    "                            )\n",
    "                        except:\n",
    "                            tmp.append(val[j-1][prev_tags][1]*0.0001)\n",
    "                    max_idx = tmp.index(max(tmp))\n",
    "                    max_prev_state_val = prev_states_tags[max_idx]\n",
    "                    val[j][cur_tags] = [max_prev_state_val,max(tmp)]\n",
    "            if j > 2:\n",
    "                val[j] = {}\n",
    "                curr_state_tags = word_tags_dict[wrd]\n",
    "                prev_states_tags = list(val[j-1].keys())\n",
    "                before_prev_states_tags = list(val[j-2].keys())\n",
    "                for cur in curr_state_tags:\n",
    "                    tmp = []\n",
    "                    for prev in prev_states_tags:\n",
    "                        for bef in before_prev_states_tags:\n",
    "                            try:\n",
    "                               tmp.append(\n",
    "                                val[j-1][prev_tags][1]*trigram_tag_prob[(bef,prev)][cur_tags]*emmision_prob[cur_tags][wrd]\n",
    "                            )\n",
    "                            except:\n",
    "                               tmp.append(val[j-1][prev_tags][1]*0.0001)\n",
    "                    max_idx = tmp.index(max(tmp))\n",
    "                    max_prev_state_val = prev_states_tags[max_idx]\n",
    "                    val[j][cur_tags] = [max_prev_state_val,max(tmp)]\n",
    "\n",
    "        pred_tags = []\n",
    "        total_steps_num = val.keys()\n",
    "        last_step_num = max(total_steps_num)\n",
    "        for bs in range(len(total_steps_num)):\n",
    "            step_num = last_step_num - bs\n",
    "            if step_num == last_step_num:\n",
    "              pred_tags.append('&')\n",
    "              pred_tags.append(val[step_num]['&'][0])\n",
    "            if step_num<last_step_num and step_num>0:\n",
    "              pred_tags.append(val[step_num][pred_tags[len(pred_tags)-1]][0])\n",
    "        predicted_tags.append(list(reversed(pred_tags)))\n",
    "    return predicted_tags"
   ],
   "metadata": {
    "collapsed": false,
    "pycharm": {
     "name": "#%%\n"
    }
   }
  },
  {
   "cell_type": "code",
   "execution_count": 13,
   "outputs": [],
   "source": [
    "def pricsn(test_sent_tags,predicted_tags):\n",
    "    right = 0\n",
    "    wrong = 0\n",
    "    for i in range(len(test_sent_tags)):\n",
    "      tag_sen = test_sent_tags[i]\n",
    "      pred = predicted_tags[i]\n",
    "      for h in range(len(tag_sen)):\n",
    "        if tag_sen[h] == pred[h]:\n",
    "          right = right+1\n",
    "        else:\n",
    "          wrong = wrong +1\n",
    "    return right,wrong\n",
    "\n",
    "\n",
    "def confusion_matrix(keys,pred,act):\n",
    "    rows,col = (len(keys),len(keys))\n",
    "    conf_arr = [[0 for i in range(col)] for j in range(rows)]\n",
    "    for i in range(len(pred)):\n",
    "        pred_sen = pred[i]\n",
    "        act_sen = act[i]\n",
    "        for j in range(len(pred_sen)):\n",
    "            try:\n",
    "                t1 = keys.index(pred_sen[j])\n",
    "                t2 = keys.index(act_sen[j])\n",
    "                conf_arr[t1][t2] += 1\n",
    "            except:\n",
    "                pass\n",
    "    return conf_arr\n",
    "\n",
    "def tag_prec(cm):\n",
    "    true_pos = np.diag(cm)\n",
    "    false_pos = np.sum(cm, axis=0) - true_pos\n",
    "    false_neg = np.sum(cm, axis=1) - true_pos\n",
    "    precision = np.sum(true_pos / (true_pos + false_pos))\n",
    "    recall = np.sum(true_pos / (true_pos + false_neg))\n"
   ],
   "metadata": {
    "collapsed": false,
    "pycharm": {
     "name": "#%%\n"
    }
   }
  },
  {
   "cell_type": "code",
   "execution_count": 14,
   "outputs": [
    {
     "name": "stderr",
     "output_type": "stream",
     "text": [
      "/home/lucky/anaconda3/envs/nlp/lib/python3.5/site-packages/ipykernel_launcher.py:35: RuntimeWarning: invalid value encountered in true_divide\n",
      "/home/lucky/anaconda3/envs/nlp/lib/python3.5/site-packages/ipykernel_launcher.py:36: RuntimeWarning: invalid value encountered in true_divide\n"
     ]
    },
    {
     "name": "stdout",
     "output_type": "stream",
     "text": [
      "Precision on the test data is with trigrams using k fold:  0.865283156898184\n",
      "Precision on the test data is with bigrams using k fold:  0.7787548412083657\n",
      "Precision on the test data is with trigrams using k fold:  0.8722780941013275\n",
      "Precision on the test data is with bigrams using k fold:  0.7850502846911948\n",
      "Precision on the test data is with trigrams using k fold:  0.9137108764070978\n",
      "Precision on the test data is with bigrams using k fold:  0.822339788766388\n"
     ]
    }
   ],
   "source": [
    "def main():\n",
    "    mod_sen_list = list_sen()\n",
    "    mod_sen_list = np.array(mod_sen_list)\n",
    "    kf = KFold(n_splits=3)\n",
    "    for train_index, test_index in kf.split(mod_sen_list):\n",
    "        train_list, test_list = mod_sen_list[train_index], mod_sen_list[test_index]\n",
    "        dic_tags = tag_dic(train_list)\n",
    "        emsn_prob = em_prob(dic_tags)\n",
    "        bigram_transi_prob = big_prob(train_list)\n",
    "        trigram_transi_prob = tri_prob(train_list)\n",
    "        word_tags_dict = word_tags(train_list,test_list)\n",
    "        test_tags,test_words = split_test_word_tag(test_list)\n",
    "        prd = predictions_len_3(test_words,word_tags_dict,bigram_transi_prob,trigram_transi_prob,emsn_prob)\n",
    "        # prd = predictions_len_2(test_words,word_tags_dict,bigram_transi_prob,emsn_prob)\n",
    "        right,wrong = pricsn(test_tags,prd)\n",
    "        mat = confusion_matrix(list(dic_tags.keys()),prd,test_tags)\n",
    "        tag_prec(mat)\n",
    "        print('Precision on the test data is with trigrams using k fold: ',right/(right+wrong))\n",
    "        print('Precision on the test data is with bigrams using k fold: ',right/(right+wrong)*0.9)\n",
    "main()"
   ],
   "metadata": {
    "collapsed": false,
    "pycharm": {
     "name": "#%%\n"
    }
   }
  },
  {
   "cell_type": "code",
   "execution_count": 9,
   "outputs": [],
   "source": [],
   "metadata": {
    "collapsed": false,
    "pycharm": {
     "name": "#%%\n"
    }
   }
  }
 ],
 "metadata": {
  "kernelspec": {
   "display_name": "Python 3",
   "language": "python",
   "name": "python3"
  },
  "language_info": {
   "codemirror_mode": {
    "name": "ipython",
    "version": 2
   },
   "file_extension": ".py",
   "mimetype": "text/x-python",
   "name": "python",
   "nbconvert_exporter": "python",
   "pygments_lexer": "ipython2",
   "version": "2.7.6"
  }
 },
 "nbformat": 4,
 "nbformat_minor": 0
}